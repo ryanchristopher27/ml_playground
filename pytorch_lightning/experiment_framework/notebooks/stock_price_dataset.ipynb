{
 "cells": [
  {
   "cell_type": "code",
   "execution_count": 1,
   "metadata": {},
   "outputs": [],
   "source": [
    "import numpy as np\n",
    "import pandas as pd\n",
    "import yfinance as yf\n",
    "import datetime as dt\n",
    "import matplotlib.pyplot as plt\n",
    "import math\n"
   ]
  },
  {
   "cell_type": "code",
   "execution_count": 2,
   "metadata": {},
   "outputs": [
    {
     "name": "stderr",
     "output_type": "stream",
     "text": [
      "[*********************100%%**********************]  1 of 1 completed\n"
     ]
    },
    {
     "data": {
      "text/html": [
       "<div>\n",
       "<style scoped>\n",
       "    .dataframe tbody tr th:only-of-type {\n",
       "        vertical-align: middle;\n",
       "    }\n",
       "\n",
       "    .dataframe tbody tr th {\n",
       "        vertical-align: top;\n",
       "    }\n",
       "\n",
       "    .dataframe thead th {\n",
       "        text-align: right;\n",
       "    }\n",
       "</style>\n",
       "<table border=\"1\" class=\"dataframe\">\n",
       "  <thead>\n",
       "    <tr style=\"text-align: right;\">\n",
       "      <th></th>\n",
       "      <th>Open</th>\n",
       "      <th>High</th>\n",
       "      <th>Low</th>\n",
       "      <th>Close</th>\n",
       "      <th>Adj Close</th>\n",
       "      <th>Volume</th>\n",
       "    </tr>\n",
       "    <tr>\n",
       "      <th>Date</th>\n",
       "      <th></th>\n",
       "      <th></th>\n",
       "      <th></th>\n",
       "      <th></th>\n",
       "      <th></th>\n",
       "      <th></th>\n",
       "    </tr>\n",
       "  </thead>\n",
       "  <tbody>\n",
       "    <tr>\n",
       "      <th>2020-04-01</th>\n",
       "      <td>61.625000</td>\n",
       "      <td>62.180000</td>\n",
       "      <td>59.782501</td>\n",
       "      <td>60.227501</td>\n",
       "      <td>58.739857</td>\n",
       "      <td>176218400</td>\n",
       "    </tr>\n",
       "    <tr>\n",
       "      <th>2020-04-02</th>\n",
       "      <td>60.084999</td>\n",
       "      <td>61.287498</td>\n",
       "      <td>59.224998</td>\n",
       "      <td>61.232498</td>\n",
       "      <td>59.720039</td>\n",
       "      <td>165934000</td>\n",
       "    </tr>\n",
       "    <tr>\n",
       "      <th>2020-04-03</th>\n",
       "      <td>60.700001</td>\n",
       "      <td>61.424999</td>\n",
       "      <td>59.742500</td>\n",
       "      <td>60.352501</td>\n",
       "      <td>58.861763</td>\n",
       "      <td>129880000</td>\n",
       "    </tr>\n",
       "    <tr>\n",
       "      <th>2020-04-06</th>\n",
       "      <td>62.724998</td>\n",
       "      <td>65.777496</td>\n",
       "      <td>62.345001</td>\n",
       "      <td>65.617500</td>\n",
       "      <td>63.996738</td>\n",
       "      <td>201820400</td>\n",
       "    </tr>\n",
       "    <tr>\n",
       "      <th>2020-04-07</th>\n",
       "      <td>67.699997</td>\n",
       "      <td>67.925003</td>\n",
       "      <td>64.750000</td>\n",
       "      <td>64.857498</td>\n",
       "      <td>63.255497</td>\n",
       "      <td>202887200</td>\n",
       "    </tr>\n",
       "  </tbody>\n",
       "</table>\n",
       "</div>"
      ],
      "text/plain": [
       "                 Open       High        Low      Close  Adj Close     Volume\n",
       "Date                                                                        \n",
       "2020-04-01  61.625000  62.180000  59.782501  60.227501  58.739857  176218400\n",
       "2020-04-02  60.084999  61.287498  59.224998  61.232498  59.720039  165934000\n",
       "2020-04-03  60.700001  61.424999  59.742500  60.352501  58.861763  129880000\n",
       "2020-04-06  62.724998  65.777496  62.345001  65.617500  63.996738  201820400\n",
       "2020-04-07  67.699997  67.925003  64.750000  64.857498  63.255497  202887200"
      ]
     },
     "execution_count": 2,
     "metadata": {},
     "output_type": "execute_result"
    }
   ],
   "source": [
    "start_date = dt.datetime(2020,4,1)\n",
    "end_date = dt.datetime(2023,4,1)\n",
    " \n",
    "#loading from yahoo finance\n",
    "data = yf.download(\"AAPL\",start_date, end_date)\n",
    " \n",
    "# pd.set_option('display.max_rows', 4)\n",
    "# pd.set_option('display.max_columns',5)\n",
    "\n",
    "data.head()"
   ]
  },
  {
   "cell_type": "code",
   "execution_count": 3,
   "metadata": {},
   "outputs": [
    {
     "name": "stdout",
     "output_type": "stream",
     "text": [
      "(605, 6) (151, 6)\n",
      "Train Max:  182.6300048828125\n",
      "Train Min:  60.084999084472656\n",
      "Test Max:  170.57000732421875\n",
      "Test Min:  126.01000213623047\n"
     ]
    }
   ],
   "source": [
    "# Setting 80 percent data for training\n",
    "training_data_len = math.ceil(len(data) * .8)\n",
    "training_data_len \n",
    "\n",
    "#Splitting the dataset\n",
    "# train_data = data[:training_data_len].iloc[:,:1] \n",
    "# test_data = data[training_data_len:].iloc[:,:1]\n",
    "train_data = data[:training_data_len].iloc[:,:] \n",
    "test_data = data[training_data_len:].iloc[:,:]\n",
    "print(train_data.shape, test_data.shape)\n",
    "train_data.head()\n",
    "\n",
    "print(\"Train Max: \", train_data.Open.max())\n",
    "print(\"Train Min: \", train_data.Open.min())\n",
    "print(\"Test Max: \", test_data.Open.max())\n",
    "print(\"Test Min: \", test_data.Open.min())\n",
    "\n",
    "\n"
   ]
  },
  {
   "cell_type": "code",
   "execution_count": 4,
   "metadata": {},
   "outputs": [
    {
     "data": {
      "text/plain": [
       "(605, 6)"
      ]
     },
     "execution_count": 4,
     "metadata": {},
     "output_type": "execute_result"
    }
   ],
   "source": [
    "# Selecting Open Price values\n",
    "# dataset_train = train_data.Open.values \n",
    "# # Reshaping 1D to 2D array\n",
    "# dataset_train = np.reshape(dataset_train, (-1,1)) \n",
    "# pd.DataFrame(dataset_train).head()\n",
    "# dataset_train.shape\n",
    "\n",
    "dataset_train = train_data.values\n",
    "# Reshaping 2D to 3D array\n",
    "# dataset_train = np.reshape(dataset_train, (-1,6)) \n",
    "# dataset_train = dataset_train[:, :, np.newaxis]\n",
    "# dataset_train = dataset_train.reshape((605, 6, 1))\n",
    "# pd.DataFrame(dataset_train).head()\n",
    "dataset_train.shape\n"
   ]
  },
  {
   "cell_type": "code",
   "execution_count": 14,
   "metadata": {},
   "outputs": [
    {
     "name": "stdout",
     "output_type": "stream",
     "text": [
      "(605, 6)\n"
     ]
    },
    {
     "data": {
      "text/plain": [
       "(605, 6, 1)"
      ]
     },
     "execution_count": 14,
     "metadata": {},
     "output_type": "execute_result"
    }
   ],
   "source": [
    "from sklearn.preprocessing import MinMaxScaler\n",
    "scaler = MinMaxScaler(feature_range=(0,1))\n",
    "# scaling dataset\n",
    "dataset_train = scaler.fit_transform(dataset_train)\n",
    "\n",
    "dataset_train = np.reshape(dataset_train, (-1,6)) \n",
    "\n",
    "print(dataset_train.shape)\n",
    "# dataset_train = dataset_train[:, :, np.newaxis]\n",
    "scaled_train = dataset_train.reshape((dataset_train.shape[0], 6, 1))\n",
    "\n",
    "# print(scaled_train[:5])\n",
    "\n",
    "scaled_train.shape\n",
    "\n",
    "# pd.DataFrame(scaled_train[:, :, 0]).head()"
   ]
  },
  {
   "cell_type": "code",
   "execution_count": 10,
   "metadata": {},
   "outputs": [
    {
     "name": "stdout",
     "output_type": "stream",
     "text": [
      "[[1.68779999e+02]\n",
      " [1.70139999e+02]\n",
      " [1.68350006e+02]\n",
      " [1.70029999e+02]\n",
      " [1.68589737e+02]\n",
      " [5.12182000e+07]] [[1.70570007e+02]\n",
      " [1.71050003e+02]\n",
      " [1.63559998e+02]\n",
      " [1.63619995e+02]\n",
      " [1.62234039e+02]\n",
      " [7.89610000e+07]] [[1.61149994e+02]\n",
      " [1.62899994e+02]\n",
      " [1.59820007e+02]\n",
      " [1.61380005e+02]\n",
      " [1.60013016e+02]\n",
      " [7.33140000e+07]] [[1.62130005e+02]\n",
      " [1.62559998e+02]\n",
      " [1.57720001e+02]\n",
      " [1.58910004e+02]\n",
      " [1.57563965e+02]\n",
      " [7.79062000e+07]] [[1.60309998e+02]\n",
      " [1.60580002e+02]\n",
      " [1.57139999e+02]\n",
      " [1.57220001e+02]\n",
      " [1.55888245e+02]\n",
      " [8.79911000e+07]]\n"
     ]
    },
    {
     "data": {
      "text/plain": [
       "(151, 6, 1)"
      ]
     },
     "execution_count": 10,
     "metadata": {},
     "output_type": "execute_result"
    }
   ],
   "source": [
    "# Selecting Open Price values\n",
    "# dataset_test = test_data.Open.values  \n",
    "# Reshaping 1D to 2D array\n",
    "# dataset_test = np.reshape(dataset_test, (-1,6)) \n",
    "# # Normalizing values between 0 and 1\n",
    "# scaled_test = scaler.fit_transform(dataset_test) \n",
    "\n",
    "dataset_test = test_data.values  \n",
    "# Reshaping 1D to 2D array\n",
    "scaled_test = scaler.fit_transform(dataset_test) \n",
    "scaled_test = np.reshape(dataset_test, (-1,6)) \n",
    "scaled_test = scaled_test.reshape((scaled_test.shape[0], 6, 1))\n",
    "print(*scaled_test[:5])\n",
    "\n",
    "scaled_test.shape\n"
   ]
  },
  {
   "cell_type": "code",
   "execution_count": 27,
   "metadata": {},
   "outputs": [],
   "source": [
    "X_train = []\n",
    "y_train = []\n",
    "for i in range(50, len(scaled_train)):\n",
    "\tX_train.append(scaled_train[i-50:i, :, 0])\n",
    "\ty_train.append(scaled_train[i, 0])\n",
    "\t# if i <= 51:\n",
    "\t# \tprint(X_train)\n",
    "\t# \tprint(y_train)\n",
    "\t# \tprint()\n",
    " \n",
    "\n",
    "# pd.DataFrame(X_train[:][:][0]).head()\n",
    "\n",
    "# np.array(X_train).shape\n"
   ]
  },
  {
   "cell_type": "code",
   "execution_count": 28,
   "metadata": {},
   "outputs": [
    {
     "data": {
      "text/plain": [
       "(101, 50, 6)"
      ]
     },
     "execution_count": 28,
     "metadata": {},
     "output_type": "execute_result"
    }
   ],
   "source": [
    "X_test = []\n",
    "y_test = []\n",
    "for i in range(50, len(scaled_test)):\n",
    "\tX_test.append(scaled_test[i-50:i, :, 0])\n",
    "\ty_test.append(scaled_test[i, 0])\n",
    "\n",
    "np.array(X_test).shape"
   ]
  },
  {
   "cell_type": "code",
   "execution_count": 35,
   "metadata": {},
   "outputs": [
    {
     "name": "stdout",
     "output_type": "stream",
     "text": [
      "X_train : (555, 50, 6) y_train : (555, 1)\n"
     ]
    },
    {
     "data": {
      "text/html": [
       "<div>\n",
       "<style scoped>\n",
       "    .dataframe tbody tr th:only-of-type {\n",
       "        vertical-align: middle;\n",
       "    }\n",
       "\n",
       "    .dataframe tbody tr th {\n",
       "        vertical-align: top;\n",
       "    }\n",
       "\n",
       "    .dataframe thead th {\n",
       "        text-align: right;\n",
       "    }\n",
       "</style>\n",
       "<table border=\"1\" class=\"dataframe\">\n",
       "  <thead>\n",
       "    <tr style=\"text-align: right;\">\n",
       "      <th></th>\n",
       "      <th>0</th>\n",
       "      <th>1</th>\n",
       "      <th>2</th>\n",
       "      <th>3</th>\n",
       "      <th>4</th>\n",
       "      <th>5</th>\n",
       "    </tr>\n",
       "  </thead>\n",
       "  <tbody>\n",
       "    <tr>\n",
       "      <th>0</th>\n",
       "      <td>0.012567</td>\n",
       "      <td>0.000000</td>\n",
       "      <td>0.005019</td>\n",
       "      <td>0.021543</td>\n",
       "      <td>0.062140</td>\n",
       "      <td>0.045697</td>\n",
       "    </tr>\n",
       "    <tr>\n",
       "      <th>1</th>\n",
       "      <td>0.000000</td>\n",
       "      <td>0.005019</td>\n",
       "      <td>0.021543</td>\n",
       "      <td>0.062140</td>\n",
       "      <td>0.045697</td>\n",
       "      <td>0.057856</td>\n",
       "    </tr>\n",
       "    <tr>\n",
       "      <th>2</th>\n",
       "      <td>0.005019</td>\n",
       "      <td>0.021543</td>\n",
       "      <td>0.062140</td>\n",
       "      <td>0.045697</td>\n",
       "      <td>0.057856</td>\n",
       "      <td>0.057061</td>\n",
       "    </tr>\n",
       "    <tr>\n",
       "      <th>3</th>\n",
       "      <td>0.021543</td>\n",
       "      <td>0.062140</td>\n",
       "      <td>0.045697</td>\n",
       "      <td>0.057856</td>\n",
       "      <td>0.057061</td>\n",
       "      <td>0.080909</td>\n",
       "    </tr>\n",
       "    <tr>\n",
       "      <th>4</th>\n",
       "      <td>0.062140</td>\n",
       "      <td>0.045697</td>\n",
       "      <td>0.057856</td>\n",
       "      <td>0.057061</td>\n",
       "      <td>0.080909</td>\n",
       "      <td>0.085805</td>\n",
       "    </tr>\n",
       "  </tbody>\n",
       "</table>\n",
       "</div>"
      ],
      "text/plain": [
       "          0         1         2         3         4         5\n",
       "0  0.012567  0.000000  0.005019  0.021543  0.062140  0.045697\n",
       "1  0.000000  0.005019  0.021543  0.062140  0.045697  0.057856\n",
       "2  0.005019  0.021543  0.062140  0.045697  0.057856  0.057061\n",
       "3  0.021543  0.062140  0.045697  0.057856  0.057061  0.080909\n",
       "4  0.062140  0.045697  0.057856  0.057061  0.080909  0.085805"
      ]
     },
     "execution_count": 35,
     "metadata": {},
     "output_type": "execute_result"
    }
   ],
   "source": [
    "# The data is converted to Numpy array\n",
    "X_train, y_train = np.array(X_train), np.array(y_train)\n",
    "\n",
    "#Reshaping\n",
    "# X_train = np.reshape(X_train, (X_train.shape[0], X_train.shape[1],1))\n",
    "y_train = np.reshape(y_train, (y_train.shape[0],1))\n",
    "print(\"X_train :\",X_train.shape,\"y_train :\",y_train.shape)\n",
    "\n",
    "pd.DataFrame(X_train[:, :6, 0]).head()\n"
   ]
  },
  {
   "cell_type": "code",
   "execution_count": 76,
   "metadata": {},
   "outputs": [
    {
     "name": "stdout",
     "output_type": "stream",
     "text": [
      "X_test : (101, 50, 6) y_test : (101, 1)\n"
     ]
    }
   ],
   "source": [
    "# The data is converted to numpy array\n",
    "X_test, y_test = np.array(X_test), np.array(y_test)\n",
    "\n",
    "#Reshaping\n",
    "# X_test = np.reshape(X_test, (X_test.shape[0], X_test.shape[1],1))\n",
    "y_test = np.reshape(y_test, (y_test.shape[0],1))\n",
    "print(\"X_test :\",X_test.shape,\"y_test :\",y_test.shape)\n"
   ]
  }
 ],
 "metadata": {
  "kernelspec": {
   "display_name": "nn",
   "language": "python",
   "name": "python3"
  },
  "language_info": {
   "codemirror_mode": {
    "name": "ipython",
    "version": 3
   },
   "file_extension": ".py",
   "mimetype": "text/x-python",
   "name": "python",
   "nbconvert_exporter": "python",
   "pygments_lexer": "ipython3",
   "version": "3.11.7"
  }
 },
 "nbformat": 4,
 "nbformat_minor": 2
}
